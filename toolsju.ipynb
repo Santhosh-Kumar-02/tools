{
 "cells": [
  {
   "cell_type": "markdown",
   "id": "67aa5fd3-d487-404d-a67d-d0c7c3ee0d9e",
   "metadata": {},
   "source": [
    "<h1> My Jupyter Notebook on IBM Watson Studio </h1>"
   ]
  },
  {
   "cell_type": "markdown",
   "id": "325da33e-d5ee-485b-ae24-409d7d2e571d",
   "metadata": {},
   "source": [
    "R. Santhosh Kumar\n",
    "Computer Science"
   ]
  },
  {
   "cell_type": "markdown",
   "id": "7ab621fd-3e19-4645-b9ee-af8f99d057bd",
   "metadata": {},
   "source": [
    "<em> I am interested in data science because I like to analyze data and find patterns </em>"
   ]
  },
  {
   "cell_type": "markdown",
   "id": "0e1cff75-b082-48ff-867b-fde4ca0ed03c",
   "metadata": {},
   "source": [
    "<h3> ADDING TWO VARIABLES </h3>\n",
    "we take two variables and add them"
   ]
  },
  {
   "cell_type": "code",
   "execution_count": 1,
   "id": "fc5b05a2-6d8b-4b41-9c8d-4d7fcab5dbbf",
   "metadata": {},
   "outputs": [
    {
     "name": "stdout",
     "output_type": "stream",
     "text": [
      "120\n"
     ]
    }
   ],
   "source": [
    "var1 = 80\n",
    "var2 = 40\n",
    "print(var1 + var2)"
   ]
  },
  {
   "cell_type": "markdown",
   "id": "e3281da6-3a14-4f47-8206-9c5e9673729c",
   "metadata": {},
   "source": [
    "bulletins\n",
    "\n",
    "<ul>\n",
    "  <li>dog</li>\n",
    "    <li>cat</li>\n",
    "  <li>rabbit</li>\n",
    "  <li>pig</li>\n",
    "</ul>"
   ]
  },
  {
   "cell_type": "markdown",
   "id": "818d8734-475c-48e9-ba8a-d09100bf7e00",
   "metadata": {},
   "source": [
    "hyperlinks\n",
    "\n",
    "i like pizza [dominos](https://www.dominos.co.in/)"
   ]
  },
  {
   "cell_type": "markdown",
   "id": "216b62a2-47d4-4a2f-9224-9956af0fbcb5",
   "metadata": {},
   "source": [
    "![i like lands](https://dharani.telangana.gov.in/img/slider10.jpg)"
   ]
  },
  {
   "attachments": {},
   "cell_type": "markdown",
   "id": "31376382",
   "metadata": {},
   "source": [
    "data science languages\n",
    "\n",
    "<ul>\n",
    "  <li>python</li>\n",
    "    <li>r</li>\n",
    "</ul>"
   ]
  },
  {
   "attachments": {},
   "cell_type": "markdown",
   "id": "fd0a204d",
   "metadata": {},
   "source": [
    "data science libraries\n",
    "\n",
    "<ul>\n",
    "  <li>pandas</li>\n",
    "    <li>numpy</li>\n",
    "  <li>matplotlib</li>\n",
    "</ul>"
   ]
  },
  {
   "attachments": {},
   "cell_type": "markdown",
   "id": "dab52bd2",
   "metadata": {},
   "source": [
    "ds tools\n",
    "<ul>\n",
    "  <li>tableau</li>\n",
    "    <li>excel</li>\n",
    "  <li>power bi</li>\n",
    "</ul>"
   ]
  },
  {
   "attachments": {},
   "cell_type": "markdown",
   "id": "ddeaf14f",
   "metadata": {},
   "source": [
    "<h3> ADDING TWO VARIABLES </h3>\n",
    "we take two variables and add them"
   ]
  },
  {
   "cell_type": "code",
   "execution_count": null,
   "id": "9a090ce4",
   "metadata": {},
   "outputs": [],
   "source": [
    "def add(a,b):\n",
    "    return a + b"
   ]
  },
  {
   "attachments": {},
   "cell_type": "markdown",
   "id": "6dd03c2a",
   "metadata": {},
   "source": [
    "<h3> MULTIPLY TWO VARIABLES </h3>\n",
    "we take two variables and multiply them"
   ]
  },
  {
   "cell_type": "code",
   "execution_count": null,
   "id": "887cdbb0",
   "metadata": {},
   "outputs": [],
   "source": [
    "def mul(a,b):\n",
    "    return a*b\n",
    "\n",
    "def convert_time(hrs, min):\n",
    "    min= hrs*60+min\n",
    "    return min"
   ]
  },
  {
   "attachments": {},
   "cell_type": "markdown",
   "id": "fbd943c3",
   "metadata": {},
   "source": [
    "<h3> HOURS TO MINUTES </h3>"
   ]
  },
  {
   "cell_type": "code",
   "execution_count": null,
   "id": "9233a58c",
   "metadata": {},
   "outputs": [],
   "source": [
    "h=int(input(\"Enter the hours:\"))\n",
    "m=int(input(\"Enter the minutes:\"))\n",
    "m=convert_time(h,m)\n",
    "print(\"Total Minutes=\",m)"
   ]
  }
 ],
 "metadata": {
  "kernelspec": {
   "display_name": "Python",
   "language": "python",
   "name": "conda-env-python-py"
  },
  "language_info": {
   "codemirror_mode": {
    "name": "ipython",
    "version": 3
   },
   "file_extension": ".py",
   "mimetype": "text/x-python",
   "name": "python",
   "nbconvert_exporter": "python",
   "pygments_lexer": "ipython3",
   "version": "3.7.12"
  }
 },
 "nbformat": 4,
 "nbformat_minor": 5
}
